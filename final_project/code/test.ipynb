{
 "cells": [
  {
   "cell_type": "code",
   "execution_count": 17,
   "metadata": {},
   "outputs": [
    {
     "name": "stdout",
     "output_type": "stream",
     "text": [
      "***********************MATRIX MULTIPLICATION***********************\n",
      "You have two matrices A(MxN) and B(NxK) that you want to multiply.\n",
      "Generating random matrices\n"
     ]
    }
   ],
   "source": [
    "import numpy as np\n",
    "import time\n",
    "\n",
    "\n",
    "print(\"***********************MATRIX MULTIPLICATION***********************\")\n",
    "one_more_time = \"y\"\n",
    "while(one_more_time == \"y\"):\n",
    "    print(\"You have two matrices A(MxN) and B(NxK) that you want to multiply.\")\n",
    "    M, N, K = input(\"Enter their dimensions(M, N, K): \").split(\",\")\n",
    "    M, N, K = int(M), int(N), int(K)\n",
    "\n",
    "    A = np.random.rand(M, N)\n",
    "    B = np.random.rand(N, K)\n",
    "\n",
    "    own_elements = input(\"Do you want to specify your own elements?(y/n) \").lower()\n",
    "\n",
    "    if own_elements == \"y\":\n",
    "        for i in range(N):\n",
    "            for j in range(M):\n",
    "                A(i, j) = input(f\"Chose element ({i}, {j} of matrix A: \")\n",
    "        for i in range(M):\n",
    "            for j in range(K):\n",
    "                B(i, j) = input(f\"Chose element ({i}, {j} of matrix B: \")\n",
    "\n",
    "    python_multiply(A, B)\n",
    "\n",
    "\n",
    "\n",
    "    one_more_time = input(\"Do you want to calculate anoter matrix multiply?(y/n) \").lower()\n"
   ]
  },
  {
   "cell_type": "code",
   "execution_count": 27,
   "metadata": {},
   "outputs": [],
   "source": [
    "import time\n",
    "def python_multiply(A, B):\n",
    "    start = time.perf_counter()\n",
    "    C = A @ B\n",
    "    end = time.perf_counter()\n",
    "    print(f\"Python matrix multiplication took {end-start} seconds\")\n",
    "    return C\n"
   ]
  },
  {
   "cell_type": "code",
   "execution_count": 37,
   "metadata": {},
   "outputs": [],
   "source": [
    "M, N, K = 2, 3, 2\n",
    "\n",
    "A = np.random.rand(M, N)\n",
    "B = np.random.rand(N, K)\n",
    "\n",
    "\n"
   ]
  },
  {
   "cell_type": "code",
   "execution_count": 20,
   "metadata": {},
   "outputs": [
    {
     "data": {
      "text/plain": [
       "array([[0.38948166, 0.82015563, 0.61228203, 0.92086466],\n",
       "       [0.45841499, 0.74941238, 0.26432393, 0.71001713],\n",
       "       [0.35671721, 0.00961909, 0.92334744, 0.43566189]])"
      ]
     },
     "execution_count": 20,
     "metadata": {},
     "output_type": "execute_result"
    }
   ],
   "source": [
    "a = [0, 0]\n",
    "for elem in a:\n",
    "    elem = 1\n",
    "\n",
    "a"
   ]
  },
  {
   "cell_type": "code",
   "execution_count": 38,
   "metadata": {},
   "outputs": [
    {
     "data": {
      "text/plain": [
       "[0, 0]"
      ]
     },
     "execution_count": 38,
     "metadata": {},
     "output_type": "execute_result"
    }
   ],
   "source": [
    "a = [0, 0]\n",
    "for elem in a:\n",
    "    elem = 1\n",
    "\n",
    "a"
   ]
  },
  {
   "cell_type": "code",
   "execution_count": 3,
   "metadata": {},
   "outputs": [
    {
     "data": {
      "text/plain": [
       "numpy.float64"
      ]
     },
     "execution_count": 3,
     "metadata": {},
     "output_type": "execute_result"
    }
   ],
   "source": [
    "import numpy as np\n",
    "A = np.random.rand(2, 3)\n",
    "B = np.random.rand(3, 2)\n",
    "type(A[0, 0])"
   ]
  }
 ],
 "metadata": {
  "interpreter": {
   "hash": "df0893f56f349688326838aaeea0de204df53a132722cbd565e54b24a8fec5f6"
  },
  "kernelspec": {
   "display_name": "",
   "language": "python",
   "name": "python3"
  },
  "language_info": {
   "codemirror_mode": {
    "name": "ipython",
    "version": 3
   },
   "file_extension": ".py",
   "mimetype": "text/x-python",
   "name": "python",
   "nbconvert_exporter": "python",
   "pygments_lexer": "ipython3",
   "version": "3.8.10"
  },
  "orig_nbformat": 4
 },
 "nbformat": 4,
 "nbformat_minor": 2
}
